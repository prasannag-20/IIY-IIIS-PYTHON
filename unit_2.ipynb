{
  "nbformat": 4,
  "nbformat_minor": 0,
  "metadata": {
    "colab": {
      "provenance": []
    },
    "kernelspec": {
      "name": "python3",
      "display_name": "Python 3"
    },
    "language_info": {
      "name": "python"
    }
  },
  "cells": [
    {
      "cell_type": "code",
      "execution_count": 4,
      "metadata": {
        "colab": {
          "base_uri": "https://localhost:8080/"
        },
        "id": "2ATLfuuiTZr_",
        "outputId": "d6ad6bca-700f-4449-9f8c-4270dd19992b"
      },
      "outputs": [
        {
          "output_type": "stream",
          "name": "stdout",
          "text": [
            "---car class demonstration\n",
            "my car: Toyota Camry (2022)\n",
            "The 2022 Toyota Camry is starting.\n",
            "The 2022 Toyota Camry is stopping.\n",
            "The 2022 Toyota Camry is starting.\n",
            "The 2022 Toyota Camry is stopping.\n"
          ]
        }
      ],
      "source": [
        "class Car:\n",
        "    def __init__(self, make, model, year):  # fixed constructor\n",
        "        self.make = make\n",
        "        self.model = model\n",
        "        self.year = year\n",
        "        self.is_started = False\n",
        "\n",
        "    def start(self):\n",
        "        if not self.is_started:\n",
        "            self.is_started = True\n",
        "            print(f\"The {self.year} {self.make} {self.model} is starting.\")\n",
        "        else:\n",
        "            print(f\"The {self.year} {self.make} {self.model} is already running.\")\n",
        "\n",
        "    def stop(self):\n",
        "        if self.is_started:\n",
        "            self.is_started = False\n",
        "            print(f\"The {self.year} {self.make} {self.model} is stopping.\")\n",
        "        else:\n",
        "            print(f\"The {self.year} {self.make} {self.model} is already stopped.\")\n",
        "\n",
        "# Create a car object\n",
        "print(\"---car class demonstration\")\n",
        "my_car = Car(\"Toyota\", \"Camry\", 2022)\n",
        "print(f\"my car: {my_car.make} {my_car.model} ({my_car.year})\")\n",
        "\n",
        "# Start and stop the car\n",
        "my_car.start()\n",
        "my_car.stop()\n",
        "my_car.start()\n",
        "my_car.stop()\n"
      ]
    },
    {
      "cell_type": "code",
      "source": [
        "# Base Class - Animal\n",
        "class Animal:\n",
        "    def __init__(self, name):\n",
        "        self.name = name\n",
        "    def speak(self):\n",
        "        return \"Some generic animal sound\"\n",
        "    def move(self):\n",
        "        return \"The animal moves around\"\n",
        "# Derived Class - cat\n",
        "class cat(Animal):\n",
        "    def speak(self):\n",
        "\n",
        "        return f\"{self.name} says: Meow! Meow!\"\n",
        "    def move(self):\n",
        "        return f\"{self.name} runs quietly.\"\n",
        "# Demonstration\n",
        "cat = cat(\"cutie\")\n",
        "animals = [cat]\n",
        "for animal in animals:\n",
        "    print(animal.speak())\n",
        "    print(animal.move())"
      ],
      "metadata": {
        "colab": {
          "base_uri": "https://localhost:8080/"
        },
        "id": "I3YLZnWUU2ov",
        "outputId": "e1db6dab-15a5-4fe1-ed5c-179222dd485a"
      },
      "execution_count": 7,
      "outputs": [
        {
          "output_type": "stream",
          "name": "stdout",
          "text": [
            "cutie says: Meow! Meow!\n",
            "cutie runs quietly.\n"
          ]
        }
      ]
    },
    {
      "cell_type": "code",
      "source": [
        "class Animal:\n",
        "    def make_sound(self):\n",
        "        raise NotImplementedError(\"Subclass must implement abstract method 'make_sound'\")\n",
        "\n",
        "class Dog(Animal):\n",
        "    def make_sound(self):\n",
        "        return \"Woof! Woof!\"\n",
        "\n",
        "class Cat(Animal):\n",
        "    def make_sound(self):\n",
        "        return \"Meow!\"\n",
        "\n",
        "class Bird(Animal):\n",
        "    def make_sound(self):\n",
        "        return \"Chirp! Chirp!\"\n",
        "\n",
        "# Demonstrating polymorphism\n",
        "print(\"\\n--- Polymorphism Demonstration ---\")\n",
        "animals = [Dog(), Cat(), Bird()]\n",
        "for animal in animals:\n",
        "    print(f\"An animal makes sound: {animal.make_sound()}\")\n"
      ],
      "metadata": {
        "colab": {
          "base_uri": "https://localhost:8080/"
        },
        "id": "JcMYn-oLVCKL",
        "outputId": "a979d93b-46ed-4e98-f150-d20b6e78a6b5"
      },
      "execution_count": 9,
      "outputs": [
        {
          "output_type": "stream",
          "name": "stdout",
          "text": [
            "\n",
            "--- Polymorphism Demonstration ---\n",
            "An animal makes sound: Woof! Woof!\n",
            "An animal makes sound: Meow!\n",
            "An animal makes sound: Chirp! Chirp!\n"
          ]
        }
      ]
    },
    {
      "cell_type": "code",
      "source": [
        "def safe_divide(numerator, denominator):\n",
        "    try:\n",
        "        result = numerator / denominator\n",
        "        print(f\"The result of {numerator} / {denominator} is: {result}\")\n",
        "    except ZeroDivisionError:\n",
        "        print(f\"Error: Cannot divide by zero! Attempted {numerator} / {denominator}\")\n",
        "    except TypeError:\n",
        "        print(\"Error: Invalid input types. Please provide numbers.\")\n",
        "    except Exception as e:\n",
        "        print(f\"An unexpected error occurred: {e}\")\n",
        "# Demonstrating error handling\n",
        "print(\"\\n--- Error Handling Demonstration ---\")\n",
        "\n",
        "safe_divide(10, 2)\n",
        "safe_divide(10, 0)\n",
        "safe_divide(5, \"abc\")"
      ],
      "metadata": {
        "colab": {
          "base_uri": "https://localhost:8080/"
        },
        "id": "z3I0lK4iVhAZ",
        "outputId": "79cd58ee-c87e-49c6-da25-e7ce3308f80c"
      },
      "execution_count": 10,
      "outputs": [
        {
          "output_type": "stream",
          "name": "stdout",
          "text": [
            "\n",
            "--- Error Handling Demonstration ---\n",
            "The result of 10 / 2 is: 5.0\n",
            "Error: Cannot divide by zero! Attempted 10 / 0\n",
            "Error: Invalid input types. Please provide numbers.\n"
          ]
        }
      ]
    }
  ]
}