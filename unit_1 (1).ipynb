{
  "nbformat": 4,
  "nbformat_minor": 0,
  "metadata": {
    "colab": {
      "provenance": []
    },
    "kernelspec": {
      "name": "python3",
      "display_name": "Python 3"
    },
    "language_info": {
      "name": "python"
    }
  },
  "cells": [
    {
      "cell_type": "code",
      "execution_count": 1,
      "metadata": {
        "colab": {
          "base_uri": "https://localhost:8080/"
        },
        "id": "K-oLzd_wudPw",
        "outputId": "b1a7dfff-7f55-4ee8-a97f-9bbce44c648d"
      },
      "outputs": [
        {
          "output_type": "stream",
          "name": "stdout",
          "text": [
            "Enter weight in Kg to Convert into pounds:6\n",
            "6.0  Kilograms = 13.200000000000001  Pounds\n"
          ]
        }
      ],
      "source": [
        "kilo_grams = float(input('Enter weight in Kg to Convert into pounds:'))\n",
        "pounds = kilo_grams * 2.2\n",
        "print(kilo_grams,' Kilograms =', pounds,' Pounds')"
      ]
    },
    {
      "cell_type": "code",
      "metadata": {
        "id": "8650256b",
        "colab": {
          "base_uri": "https://localhost:8080/"
        },
        "outputId": "20378ddb-fbc1-4294-841a-9af0150ef105"
      },
      "source": [
        "for i in range(8,90,3):\n",
        "    print(i,end=\" \")\n",
        ""
      ],
      "execution_count": 2,
      "outputs": [
        {
          "output_type": "stream",
          "name": "stdout",
          "text": [
            "8 11 14 17 20 23 26 29 32 35 38 41 44 47 50 53 56 59 62 65 68 71 74 77 80 83 86 89 "
          ]
        }
      ]
    },
    {
      "cell_type": "code",
      "source": [
        "text = \"Hello\"\n",
        "char_list = list(text)\n",
        "print(char_list)  # Output: ['H', 'e', 'l', 'l', 'o']\n"
      ],
      "metadata": {
        "colab": {
          "base_uri": "https://localhost:8080/"
        },
        "id": "30kg-8ClRe_5",
        "outputId": "7d56f6db-f034-4166-fa78-cc922efedfea"
      },
      "execution_count": 4,
      "outputs": [
        {
          "output_type": "stream",
          "name": "stdout",
          "text": [
            "['H', 'e', 'l', 'l', 'o']\n"
          ]
        }
      ]
    },
    {
      "cell_type": "code",
      "source": [
        "numbers = [10, 45, 2, 99, 65]\n",
        "largest = max(numbers)\n",
        "print(\"Largest number is:\", largest)"
      ],
      "metadata": {
        "colab": {
          "base_uri": "https://localhost:8080/"
        },
        "id": "wAm15bUlRysX",
        "outputId": "f3126d01-ceb9-4121-8af2-58567fc880a5"
      },
      "execution_count": 5,
      "outputs": [
        {
          "output_type": "stream",
          "name": "stdout",
          "text": [
            "Largest number is: 99\n"
          ]
        }
      ]
    },
    {
      "cell_type": "code",
      "source": [
        "def fibonacci(n):\n",
        "    if n <= 0:\n",
        "        return \"Invalid input\"\n",
        "    elif n == 1:\n",
        "        return 0\n",
        "    elif n == 2:\n",
        "        return 1\n",
        "    else:\n",
        "        return fibonacci(n-1) + fibonacci(n-2)\n",
        "n = 7\n",
        "print(f\"Fibonacci number at position {n} is:\", fibonacci(n))"
      ],
      "metadata": {
        "colab": {
          "base_uri": "https://localhost:8080/"
        },
        "id": "w5xeDEhVSBqm",
        "outputId": "21eb51c9-ac0e-4b6c-8efe-10cd8aeeda1a"
      },
      "execution_count": 6,
      "outputs": [
        {
          "output_type": "stream",
          "name": "stdout",
          "text": [
            "Fibonacci number at position 7 is: 8\n"
          ]
        }
      ]
    }
  ]
}